{
 "cells": [
  {
   "cell_type": "code",
   "execution_count": 1,
   "metadata": {
    "id": "0m2JWFliFfKT"
   },
   "outputs": [],
   "source": [
    "from __future__ import print_function\n",
    "import torch\n",
    "import torch.nn as nn\n",
    "import torch.nn.functional as F\n",
    "import torch.optim as optim\n",
    "from torchvision import datasets, transforms"
   ]
  },
  {
   "cell_type": "code",
   "execution_count": 58,
   "metadata": {
    "id": "h_Cx9q2QFgM7"
   },
   "outputs": [],
   "source": [
    "class Net(nn.Module):\n",
    "    def __init__(self):\n",
    "        super(Net, self).__init__()\n",
    "        self.conv1 = nn.Sequential(         # input =28x28x1 , RF: 3x3\n",
    "        nn.Conv2d(1, 16, 3) ,     ## out=26x26x16\n",
    "         nn.ReLU(),          \n",
    "         nn.BatchNorm2d(16),  \n",
    "         nn.Dropout2d(0.1),\n",
    "         nn.Conv2d(16, 16, 3),    ## out=24x24x16,input=26x26x16,RF=5x5\n",
    "         nn.ReLU(),          \n",
    "         nn.BatchNorm2d(16),  \n",
    "         nn.Dropout2d(0.1),     \n",
    "         nn.Conv2d(16, 32, 3),    ## out=22x22x32,input=24x24x16,RF=7x7\n",
    "                 nn.ReLU(),          \n",
    "         nn.BatchNorm2d(32),  \n",
    "         nn.Dropout2d(0.1)      \n",
    "        )\n",
    "\n",
    "        self.transition_layer1= nn.Sequential( \n",
    "            nn.Conv2d(32,16,1),              ## out= 22x22x16, input=22x22x32\n",
    "            nn.ReLU(),                       \n",
    "            nn.MaxPool2d(2, 2),               ## out= 11x11x16\n",
    "\n",
    "            )      \n",
    "\n",
    "        self.conv2 = nn.Sequential(       # input=11x11x16\n",
    "        nn.Conv2d(16, 16, 3),              ## out=9 x9 x 16\n",
    "                         nn.ReLU(),          \n",
    "         nn.BatchNorm2d(16),  \n",
    "         nn.Dropout2d(0.1) , \n",
    "        nn.Conv2d(16, 16, 3),             ## out= 7x7x16, input= 9x9x16\n",
    "                         nn.ReLU(),          \n",
    "         nn.BatchNorm2d(16),  \n",
    "         nn.Dropout2d(0.1) , \n",
    "          nn.Conv2d(16, 32, 3,padding=1),             ## out= 5x5x32, input= 7x7x32\n",
    "                         nn.ReLU(),          \n",
    "         nn.BatchNorm2d(32),  \n",
    "         nn.Dropout2d(0.1)  \n",
    "          )\n",
    "\n",
    "       \n",
    "        self.conv_final=nn.Conv2d(32, 10, 1, bias=False) #input-5x5x32 Output: 5x5x10 \n",
    "        self.gap = nn.AvgPool2d(5)  "
   ]
  },
  {
   "cell_type": "code",
   "execution_count": 59,
   "metadata": {
    "colab": {
     "base_uri": "https://localhost:8080/"
    },
    "id": "xdydjYTZFyi3",
    "outputId": "2b59b153-720d-4f94-8846-1d61fb247f0d"
   },
   "outputs": [
    {
     "name": "stdout",
     "output_type": "stream",
     "text": [
      "----------------------------------------------------------------\n",
      "        Layer (type)               Output Shape         Param #\n",
      "================================================================\n",
      "            Conv2d-1           [-1, 16, 26, 26]             160\n",
      "              ReLU-2           [-1, 16, 26, 26]               0\n",
      "       BatchNorm2d-3           [-1, 16, 26, 26]              32\n",
      "         Dropout2d-4           [-1, 16, 26, 26]               0\n",
      "            Conv2d-5           [-1, 16, 24, 24]           2,320\n",
      "              ReLU-6           [-1, 16, 24, 24]               0\n",
      "       BatchNorm2d-7           [-1, 16, 24, 24]              32\n",
      "         Dropout2d-8           [-1, 16, 24, 24]               0\n",
      "            Conv2d-9           [-1, 32, 22, 22]           4,640\n",
      "             ReLU-10           [-1, 32, 22, 22]               0\n",
      "      BatchNorm2d-11           [-1, 32, 22, 22]              64\n",
      "        Dropout2d-12           [-1, 32, 22, 22]               0\n",
      "           Conv2d-13           [-1, 16, 22, 22]             528\n",
      "             ReLU-14           [-1, 16, 22, 22]               0\n",
      "        MaxPool2d-15           [-1, 16, 11, 11]               0\n",
      "           Conv2d-16             [-1, 16, 9, 9]           2,320\n",
      "             ReLU-17             [-1, 16, 9, 9]               0\n",
      "      BatchNorm2d-18             [-1, 16, 9, 9]              32\n",
      "        Dropout2d-19             [-1, 16, 9, 9]               0\n",
      "           Conv2d-20             [-1, 16, 7, 7]           2,320\n",
      "             ReLU-21             [-1, 16, 7, 7]               0\n",
      "      BatchNorm2d-22             [-1, 16, 7, 7]              32\n",
      "        Dropout2d-23             [-1, 16, 7, 7]               0\n",
      "           Conv2d-24             [-1, 32, 7, 7]           4,640\n",
      "             ReLU-25             [-1, 32, 7, 7]               0\n",
      "      BatchNorm2d-26             [-1, 32, 7, 7]              64\n",
      "        Dropout2d-27             [-1, 32, 7, 7]               0\n",
      "           Conv2d-28             [-1, 10, 7, 7]             320\n",
      "        AvgPool2d-29             [-1, 10, 1, 1]               0\n",
      "================================================================\n",
      "Total params: 17,504\n",
      "Trainable params: 17,504\n",
      "Non-trainable params: 0\n",
      "----------------------------------------------------------------\n",
      "Input size (MB): 0.00\n",
      "Forward/backward pass size (MB): 1.33\n",
      "Params size (MB): 0.07\n",
      "Estimated Total Size (MB): 1.40\n",
      "----------------------------------------------------------------\n"
     ]
    },
    {
     "name": "stderr",
     "output_type": "stream",
     "text": [
      "/usr/local/lib/python3.7/dist-packages/ipykernel_launcher.py:54: UserWarning: Implicit dimension choice for log_softmax has been deprecated. Change the call to include dim=X as an argument.\n"
     ]
    }
   ],
   "source": [
    "#!pip install torchsummary\n",
    "from torchsummary import summary\n",
    "use_cuda = torch.cuda.is_available()\n",
    "device = torch.device(\"cuda\" if use_cuda else \"cpu\")\n",
    "model = Net().to(device)\n",
    "summary(model, input_size=(1, 28, 28))"
   ]
  },
  {
   "cell_type": "code",
   "execution_count": 60,
   "metadata": {
    "id": "DqTWLaM5GHgH"
   },
   "outputs": [],
   "source": [
    "\n",
    "\n",
    "torch.manual_seed(1)\n",
    "batch_size = 128\n",
    "\n",
    "kwargs = {'num_workers': 1, 'pin_memory': True} if use_cuda else {}\n",
    "train_loader = torch.utils.data.DataLoader(\n",
    "    datasets.MNIST('../data', train=True, download=True,\n",
    "                    transform=transforms.Compose([\n",
    "                        transforms.ToTensor(),\n",
    "                        transforms.Normalize((0.1307,), (0.3081,))\n",
    "                    ])),\n",
    "    batch_size=batch_size, shuffle=True, **kwargs)\n",
    "test_loader = torch.utils.data.DataLoader(\n",
    "    datasets.MNIST('../data', train=False, transform=transforms.Compose([\n",
    "                        transforms.ToTensor(),\n",
    "                        transforms.Normalize((0.1307,), (0.3081,))\n",
    "                    ])),\n",
    "    batch_size=batch_size, shuffle=True, **kwargs)\n"
   ]
  },
  {
   "cell_type": "code",
   "execution_count": 61,
   "metadata": {
    "id": "8fDefDhaFlwH"
   },
   "outputs": [],
   "source": [
    "from tqdm import tqdm\n",
    "def train(model, device, train_loader, optimizer, epoch):\n",
    "    model.train()\n",
    "    pbar = tqdm(train_loader)\n",
    "    for batch_idx, (data, target) in enumerate(pbar):\n",
    "        data, target = data.to(device), target.to(device)\n",
    "        optimizer.zero_grad()\n",
    "        output = model(data)\n",
    "        loss = F.nll_loss(output, target)\n",
    "        loss.backward()\n",
    "        optimizer.step()\n",
    "        pbar.set_description(desc= f'loss={loss.item()} batch_id={batch_idx}')\n",
    "\n",
    "\n",
    "def test(model, device, test_loader):\n",
    "    model.eval()\n",
    "    test_loss = 0\n",
    "    correct = 0\n",
    "    with torch.no_grad():\n",
    "        for data, target in test_loader:\n",
    "            data, target = data.to(device), target.to(device)\n",
    "            output = model(data)\n",
    "            test_loss += F.nll_loss(output, target, reduction='sum').item()  # sum up batch loss\n",
    "            pred = output.argmax(dim=1, keepdim=True)  # get the index of the max log-probability\n",
    "            correct += pred.eq(target.view_as(pred)).sum().item()\n",
    "\n",
    "    test_loss /= len(test_loader.dataset)\n",
    "\n",
    "    print('\\nTest set: Average loss: {:.4f}, Accuracy: {}/{} ({:.2f}%)\\n'.format(\n",
    "        test_loss, correct, len(test_loader.dataset),\n",
    "        100. * correct / len(test_loader.dataset)))"
   ]
  },
  {
   "cell_type": "code",
   "execution_count": 64,
   "metadata": {
    "colab": {
     "base_uri": "https://localhost:8080/"
    },
    "id": "MMWbLWO6FuHb",
    "outputId": "70d13e29-1282-410b-fa1d-3a25b8d2d0fd"
   },
   "outputs": [
    {
     "name": "stdout",
     "output_type": "stream",
     "text": [
      "\n",
      "Epoch 1 : \n"
     ]
    },
    {
     "name": "stderr",
     "output_type": "stream",
     "text": [
      "  0%|          | 0/469 [00:00<?, ?it/s]/usr/local/lib/python3.7/dist-packages/ipykernel_launcher.py:54: UserWarning: Implicit dimension choice for log_softmax has been deprecated. Change the call to include dim=X as an argument.\n",
      "loss=0.05222932621836662 batch_id=468: 100%|██████████| 469/469 [00:21<00:00, 21.47it/s]\n"
     ]
    },
    {
     "name": "stdout",
     "output_type": "stream",
     "text": [
      "\n",
      "Test set: Average loss: 0.0532, Accuracy: 9834/10000 (98.34%)\n",
      "\n",
      "\n",
      "Epoch 2 : \n"
     ]
    },
    {
     "name": "stderr",
     "output_type": "stream",
     "text": [
      "loss=0.038857780396938324 batch_id=468: 100%|██████████| 469/469 [00:21<00:00, 21.58it/s]\n"
     ]
    },
    {
     "name": "stdout",
     "output_type": "stream",
     "text": [
      "\n",
      "Test set: Average loss: 0.0395, Accuracy: 9882/10000 (98.82%)\n",
      "\n",
      "\n",
      "Epoch 3 : \n"
     ]
    },
    {
     "name": "stderr",
     "output_type": "stream",
     "text": [
      "loss=0.028801599517464638 batch_id=468: 100%|██████████| 469/469 [00:21<00:00, 21.55it/s]\n"
     ]
    },
    {
     "name": "stdout",
     "output_type": "stream",
     "text": [
      "\n",
      "Test set: Average loss: 0.0279, Accuracy: 9911/10000 (99.11%)\n",
      "\n",
      "\n",
      "Epoch 4 : \n"
     ]
    },
    {
     "name": "stderr",
     "output_type": "stream",
     "text": [
      "loss=0.019679876044392586 batch_id=468: 100%|██████████| 469/469 [00:21<00:00, 21.67it/s]\n"
     ]
    },
    {
     "name": "stdout",
     "output_type": "stream",
     "text": [
      "\n",
      "Test set: Average loss: 0.0264, Accuracy: 9914/10000 (99.14%)\n",
      "\n",
      "\n",
      "Epoch 5 : \n"
     ]
    },
    {
     "name": "stderr",
     "output_type": "stream",
     "text": [
      "loss=0.029749378561973572 batch_id=468: 100%|██████████| 469/469 [00:21<00:00, 21.54it/s]\n"
     ]
    },
    {
     "name": "stdout",
     "output_type": "stream",
     "text": [
      "\n",
      "Test set: Average loss: 0.0253, Accuracy: 9923/10000 (99.23%)\n",
      "\n",
      "\n",
      "Epoch 6 : \n"
     ]
    },
    {
     "name": "stderr",
     "output_type": "stream",
     "text": [
      "loss=0.026028379797935486 batch_id=468: 100%|██████████| 469/469 [00:21<00:00, 22.01it/s]\n"
     ]
    },
    {
     "name": "stdout",
     "output_type": "stream",
     "text": [
      "\n",
      "Test set: Average loss: 0.0250, Accuracy: 9925/10000 (99.25%)\n",
      "\n",
      "\n",
      "Epoch 7 : \n"
     ]
    },
    {
     "name": "stderr",
     "output_type": "stream",
     "text": [
      "loss=0.060077179223299026 batch_id=468: 100%|██████████| 469/469 [00:21<00:00, 21.99it/s]\n"
     ]
    },
    {
     "name": "stdout",
     "output_type": "stream",
     "text": [
      "\n",
      "Test set: Average loss: 0.0250, Accuracy: 9923/10000 (99.23%)\n",
      "\n",
      "\n",
      "Epoch 8 : \n"
     ]
    },
    {
     "name": "stderr",
     "output_type": "stream",
     "text": [
      "loss=0.010486490093171597 batch_id=468: 100%|██████████| 469/469 [00:21<00:00, 21.94it/s]\n"
     ]
    },
    {
     "name": "stdout",
     "output_type": "stream",
     "text": [
      "\n",
      "Test set: Average loss: 0.0213, Accuracy: 9927/10000 (99.27%)\n",
      "\n",
      "\n",
      "Epoch 9 : \n"
     ]
    },
    {
     "name": "stderr",
     "output_type": "stream",
     "text": [
      "loss=0.042423803359270096 batch_id=468: 100%|██████████| 469/469 [00:21<00:00, 21.91it/s]\n"
     ]
    },
    {
     "name": "stdout",
     "output_type": "stream",
     "text": [
      "\n",
      "Test set: Average loss: 0.0243, Accuracy: 9933/10000 (99.33%)\n",
      "\n",
      "\n",
      "Epoch 10 : \n"
     ]
    },
    {
     "name": "stderr",
     "output_type": "stream",
     "text": [
      "loss=0.10799773782491684 batch_id=468: 100%|██████████| 469/469 [00:21<00:00, 21.56it/s]\n"
     ]
    },
    {
     "name": "stdout",
     "output_type": "stream",
     "text": [
      "\n",
      "Test set: Average loss: 0.0209, Accuracy: 9938/10000 (99.38%)\n",
      "\n",
      "\n",
      "Epoch 11 : \n"
     ]
    },
    {
     "name": "stderr",
     "output_type": "stream",
     "text": [
      "loss=0.06794515252113342 batch_id=468: 100%|██████████| 469/469 [00:21<00:00, 21.44it/s]\n"
     ]
    },
    {
     "name": "stdout",
     "output_type": "stream",
     "text": [
      "\n",
      "Test set: Average loss: 0.0220, Accuracy: 9928/10000 (99.28%)\n",
      "\n",
      "\n",
      "Epoch 12 : \n"
     ]
    },
    {
     "name": "stderr",
     "output_type": "stream",
     "text": [
      "loss=0.024688877165317535 batch_id=468: 100%|██████████| 469/469 [00:21<00:00, 21.40it/s]\n"
     ]
    },
    {
     "name": "stdout",
     "output_type": "stream",
     "text": [
      "\n",
      "Test set: Average loss: 0.0215, Accuracy: 9936/10000 (99.36%)\n",
      "\n",
      "\n",
      "Epoch 13 : \n"
     ]
    },
    {
     "name": "stderr",
     "output_type": "stream",
     "text": [
      "loss=0.0111578069627285 batch_id=468: 100%|██████████| 469/469 [00:21<00:00, 21.62it/s]\n"
     ]
    },
    {
     "name": "stdout",
     "output_type": "stream",
     "text": [
      "\n",
      "Test set: Average loss: 0.0203, Accuracy: 9937/10000 (99.37%)\n",
      "\n",
      "\n",
      "Epoch 14 : \n"
     ]
    },
    {
     "name": "stderr",
     "output_type": "stream",
     "text": [
      "loss=0.014552432112395763 batch_id=468: 100%|██████████| 469/469 [00:21<00:00, 21.38it/s]\n"
     ]
    },
    {
     "name": "stdout",
     "output_type": "stream",
     "text": [
      "\n",
      "Test set: Average loss: 0.0181, Accuracy: 9950/10000 (99.50%)\n",
      "\n",
      "\n",
      "Epoch 15 : \n"
     ]
    },
    {
     "name": "stderr",
     "output_type": "stream",
     "text": [
      "loss=0.019784480333328247 batch_id=468: 100%|██████████| 469/469 [00:21<00:00, 21.59it/s]\n"
     ]
    },
    {
     "name": "stdout",
     "output_type": "stream",
     "text": [
      "\n",
      "Test set: Average loss: 0.0187, Accuracy: 9941/10000 (99.41%)\n",
      "\n",
      "\n",
      "Epoch 16 : \n"
     ]
    },
    {
     "name": "stderr",
     "output_type": "stream",
     "text": [
      "loss=0.02583303116261959 batch_id=468: 100%|██████████| 469/469 [00:21<00:00, 21.84it/s]\n"
     ]
    },
    {
     "name": "stdout",
     "output_type": "stream",
     "text": [
      "\n",
      "Test set: Average loss: 0.0192, Accuracy: 9948/10000 (99.48%)\n",
      "\n",
      "\n",
      "Epoch 17 : \n"
     ]
    },
    {
     "name": "stderr",
     "output_type": "stream",
     "text": [
      "loss=0.0027172593399882317 batch_id=468: 100%|██████████| 469/469 [00:21<00:00, 21.86it/s]\n"
     ]
    },
    {
     "name": "stdout",
     "output_type": "stream",
     "text": [
      "\n",
      "Test set: Average loss: 0.0175, Accuracy: 9944/10000 (99.44%)\n",
      "\n",
      "\n",
      "Epoch 18 : \n"
     ]
    },
    {
     "name": "stderr",
     "output_type": "stream",
     "text": [
      "loss=0.03112637810409069 batch_id=468: 100%|██████████| 469/469 [00:21<00:00, 21.98it/s]\n"
     ]
    },
    {
     "name": "stdout",
     "output_type": "stream",
     "text": [
      "\n",
      "Test set: Average loss: 0.0186, Accuracy: 9945/10000 (99.45%)\n",
      "\n",
      "\n",
      "Epoch 19 : \n"
     ]
    },
    {
     "name": "stderr",
     "output_type": "stream",
     "text": [
      "loss=0.012066666036844254 batch_id=468: 100%|██████████| 469/469 [00:21<00:00, 22.00it/s]\n"
     ]
    },
    {
     "name": "stdout",
     "output_type": "stream",
     "text": [
      "\n",
      "Test set: Average loss: 0.0191, Accuracy: 9947/10000 (99.47%)\n",
      "\n"
     ]
    }
   ],
   "source": [
    "\n",
    "model = Net().to(device)\n",
    "optimizer = optim.SGD(model.parameters(), lr=0.1, momentum=0.9)\n",
    "\n",
    "for epoch in range(1, 20):\n",
    "    print('\\nEpoch {} : '.format(epoch))\n",
    "    train(model, device, train_loader, optimizer, epoch)\n",
    "    test(model, device, test_loader)"
   ]
  },
  {
   "cell_type": "code",
   "execution_count": null,
   "metadata": {
    "id": "So5uk4EkHW6R"
   },
   "outputs": [],
   "source": []
  }
 ],
 "metadata": {
  "accelerator": "GPU",
  "colab": {
   "name": "EVA4 - Session 2.ipynb",
   "provenance": []
  },
  "kernelspec": {
   "display_name": "Python 3",
   "language": "python",
   "name": "python3"
  },
  "language_info": {
   "codemirror_mode": {
    "name": "ipython",
    "version": 3
   },
   "file_extension": ".py",
   "mimetype": "text/x-python",
   "name": "python",
   "nbconvert_exporter": "python",
   "pygments_lexer": "ipython3",
   "version": "3.8.5"
  }
 },
 "nbformat": 4,
 "nbformat_minor": 1
}
